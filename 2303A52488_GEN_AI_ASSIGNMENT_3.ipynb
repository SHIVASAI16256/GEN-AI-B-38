{
  "nbformat": 4,
  "nbformat_minor": 0,
  "metadata": {
    "colab": {
      "provenance": [],
      "authorship_tag": "ABX9TyNotAj/Wxd5bgcZqalJyMLE",
      "include_colab_link": true
    },
    "kernelspec": {
      "name": "python3",
      "display_name": "Python 3"
    },
    "language_info": {
      "name": "python"
    }
  },
  "cells": [
    {
      "cell_type": "markdown",
      "metadata": {
        "id": "view-in-github",
        "colab_type": "text"
      },
      "source": [
        "<a href=\"https://colab.research.google.com/github/SHIVASAI16256/GEN-AI-B-38/blob/main/2303A52488_GEN_AI_ASSIGNMENT_3.ipynb\" target=\"_parent\"><img src=\"https://colab.research.google.com/assets/colab-badge.svg\" alt=\"Open In Colab\"/></a>"
      ]
    },
    {
      "cell_type": "markdown",
      "source": [
        "1. (1 ponto) Write Python code without using any libraries to find the value of x at which the\n",
        "function f(x) shown in equation (1) has minimum value. Consider Gradient Descent Algorithm.\n",
        "f (x) = 5x4 + 3x2 + 10"
      ],
      "metadata": {
        "id": "GOG3Ct0wAuuY"
      }
    },
    {
      "cell_type": "code",
      "source": [
        "def f(x):\n",
        "    return 5*x**4 + 3*x**2 + 10\n",
        "\n",
        "def grad_f(x):\n",
        "    return 20*x**3 + 6*x\n",
        "\n",
        "def gradient_descent(learning_rate, epochs, tolerance):\n",
        "    x = 0.5\n",
        "    for _ in range(epochs):\n",
        "        grad = grad_f(x)\n",
        "        x_new = x - learning_rate * grad\n",
        "        if abs(x_new - x) < tolerance:\n",
        "            break\n",
        "        x = x_new\n",
        "    return x\n",
        "\n",
        "\n",
        "learning_rate = 0.01\n",
        "epochs = 10000\n",
        "tolerance = 1e-6\n",
        "\n",
        "\n",
        "x_min = gradient_descent(learning_rate, epochs, tolerance)\n",
        "f_min = f(x_min)\n",
        "\n",
        "print(f\"x_min: {x_min}\")\n",
        "print(f\"f_min: {f_min}\")\n",
        "\n",
        "\n"
      ],
      "metadata": {
        "id": "EviGQlHd-zGJ",
        "colab": {
          "base_uri": "https://localhost:8080/"
        },
        "outputId": "90cd5dfd-175f-4908-9fd2-f7c952a20257"
      },
      "execution_count": 12,
      "outputs": [
        {
          "output_type": "stream",
          "name": "stdout",
          "text": [
            "x_min: 1.5886989353872617e-05\n",
            "f_min: 10.00000000075719\n"
          ]
        }
      ]
    },
    {
      "cell_type": "markdown",
      "source": [
        " 2Q (1 ponto) Write Python code without using any libraries to find the value of x and y at which the\n",
        "function g(x,y) shown in equation (2) has minimum value. Consider Gradient Descent Algorithm.\n",
        "f (x) = 3x2 + 5e^−y + 10"
      ],
      "metadata": {
        "id": "jHfQh1i9BHZN"
      }
    },
    {
      "cell_type": "code",
      "source": [
        "def g(x, y):\n",
        "    return 3 * (x ** 2) + 5 * (2.718281828459045 ** (-y)) + 10\n",
        "\n",
        "def dg_dx(x, y):\n",
        "    return 6 * x\n",
        "\n",
        "def dg_dy(x, y):\n",
        "    return -5 * (2.718281828459045 ** (-y))\n",
        "\n",
        "learning_rate = 0.01\n",
        "x = 1 # Starting point for x (non-zero)\n",
        "y = 1.0  # Starting point for y\n",
        "precision = 1e-6\n",
        "max_iterations = 10000\n",
        "\n",
        "for _ in range(max_iterations):\n",
        "    x_new = x - learning_rate * dg_dx(x, y)\n",
        "    y_new = y - learning_rate * dg_dy(x, y)\n",
        "\n",
        "    if abs(x_new - x) < precision and abs(y_new - y) < precision:\n",
        "        break\n",
        "\n",
        "    x, y = x_new, y_new\n",
        "\n",
        "print(f\"x: {x}, y: {y}\")\n",
        "\n",
        "\n"
      ],
      "metadata": {
        "colab": {
          "base_uri": "https://localhost:8080/"
        },
        "id": "CcgZgz7BBcNN",
        "outputId": "86471877-4708-4670-a22d-f621d6507f92"
      },
      "execution_count": 17,
      "outputs": [
        {
          "output_type": "stream",
          "name": "stdout",
          "text": [
            "x: 1.8990482403275175e-269, y: 6.2202898120675485\n"
          ]
        }
      ]
    },
    {
      "cell_type": "markdown",
      "source": [
        " 3q)(1 ponto) Write Python code without using any libraries to find the value of x at which the\n",
        "sigmoid function z(x) shown in equation (3) has minimum value. Consider Gradient Descent\n",
        "Algorithm.\n",
        "z(x) = 1\n",
        "# 1 + e−x"
      ],
      "metadata": {
        "id": "E0ahYF6NDgd_"
      }
    },
    {
      "source": [
        "import math\n",
        "\n",
        "def z(x):\n",
        "    return 1 / (1 + math.exp(-x)) # Using math.exp to handle large exponents\n",
        "\n",
        "def dz_dx(x):\n",
        "    sig = z(x)\n",
        "    return sig * (1 - sig)\n",
        "\n",
        "learning_rate = 1 # Reduced learning rate to avoid overshooting\n",
        "x = 1.0\n",
        "precision = 1e-6\n",
        "max_iterations = 10000\n",
        "\n",
        "for _ in range(max_iterations):\n",
        "    x_new = x - learning_rate * dz_dx(x)\n",
        "    if abs(x_new - x) < precision:\n",
        "        break\n",
        "    x = x_new\n",
        "\n",
        "print(f\"x: {x}\")"
      ],
      "cell_type": "code",
      "metadata": {
        "colab": {
          "base_uri": "https://localhost:8080/"
        },
        "id": "HZ-nXEoRDZGw",
        "outputId": "b31c6bdf-2d56-412d-e6ff-a2c34d675735"
      },
      "execution_count": 20,
      "outputs": [
        {
          "output_type": "stream",
          "name": "stdout",
          "text": [
            "x: -9.208441798648726\n"
          ]
        }
      ]
    },
    {
      "cell_type": "markdown",
      "source": [
        " 4Q) (1 ponto) Write Python code without using any libraries to find the value of optimal values of\n",
        "model parameters M and C such that the model’s Square Error Value shown in equation 4 will\n",
        "be minimum. It means model gives output close to expected output as shown in Figure"
      ],
      "metadata": {
        "id": "8kMCnkfNDqB9"
      }
    },
    {
      "cell_type": "code",
      "source": [
        "# Sample data points\n",
        "x_data = [1, 2, 3, 4, 5]\n",
        "y_data = [2, 4, 5, 4, 5]\n",
        "\n",
        "def compute_error(M, C):\n",
        "    total_error = 0\n",
        "    n = len(x_data)\n",
        "    for i in range(n):\n",
        "        total_error += (y_data[i] - (M * x_data[i] + C)) ** 2\n",
        "    return total_error / n\n",
        "\n",
        "def compute_gradients(M, C):\n",
        "    n = len(x_data)\n",
        "    dM = 0\n",
        "    dC = 0\n",
        "    for i in range(n):\n",
        "        error = y_data[i] - (M * x_data[i] + C)\n",
        "        dM -= (2 / n) * error * x_data[i]\n",
        "        dC -= (2 / n) * error\n",
        "    return dM, dC\n",
        "\n",
        "learning_rate = 0.01\n",
        "M = 0.0\n",
        "C = 0.0\n",
        "precision = 1e-6\n",
        "max_iterations = 10000\n",
        "\n",
        "for _ in range(max_iterations):\n",
        "    dM, dC = compute_gradients(M, C)\n",
        "    M_new = M - learning_rate * dM\n",
        "    C_new = C - learning_rate * dC\n",
        "\n",
        "    if abs(M_new - M) < precision and abs(C_new - C) < precision:\n",
        "        break\n",
        "\n",
        "    M, C = M_new, C_new\n",
        "\n",
        "print(f\"M: {M}, C: {C}\")\n"
      ],
      "metadata": {
        "colab": {
          "base_uri": "https://localhost:8080/"
        },
        "id": "GqYZ0djcEAqf",
        "outputId": "8a08e272-3ebf-4345-a89b-e1c64252ada9"
      },
      "execution_count": 21,
      "outputs": [
        {
          "output_type": "stream",
          "name": "stdout",
          "text": [
            "M: 0.6000816915982942, C: 2.199705067409554\n"
          ]
        }
      ]
    },
    {
      "cell_type": "code",
      "source": [
        "def model(input_value, M, C):\n",
        "    return M * input_value + C\n",
        "\n",
        "def square_error(output, expected_output):\n",
        "    return (output - expected_output) ** 2\n",
        "\n",
        "def gradients(input_value, M, C, expected_output):\n",
        "    output = model(input_value, M, C)\n",
        "    error = output - expected_output\n",
        "\n",
        "    grad_M = 2 * error * input_value\n",
        "    grad_C = 2 * error\n",
        "\n",
        "    return grad_M, grad_C\n",
        "\n",
        "def gradient_descent(input_value, expected_output, start_M, start_C, learning_rate, tolerance, max_iterations):\n",
        "    M, C = start_M, start_C\n",
        "    iteration = 0\n",
        "\n",
        "    while iteration < max_iterations:\n",
        "        grad_M, grad_C = gradients(input_value, M, C, expected_output)\n",
        "\n",
        "        new_M = M - learning_rate * grad_M\n",
        "        new_C = C - learning_rate * grad_C\n",
        "\n",
        "        if abs(new_M - M) < tolerance and abs(new_C - C) < tolerance:\n",
        "            break\n",
        "\n",
        "        M, C = new_M, new_C\n",
        "        iteration += 1\n",
        "\n",
        "    return M, C, square_error(model(input_value, M, C), expected_output)\n",
        "\n",
        "input_value = 2.0\n",
        "expected_output = 0.5\n",
        "start_M = 0.0\n",
        "start_C = 0.0\n",
        "learning_rate = 0.01\n",
        "tolerance = 1e-6\n",
        "max_iterations = 10000\n",
        "\n",
        "optimal_M, optimal_C, min_error = gradient_descent(\n",
        "    input_value, expected_output, start_M, start_C, learning_rate, tolerance, max_iterations\n",
        ")\n",
        "\n",
        "print(\"Optimal value of M:\", optimal_M)\n",
        "print(\"Optimal value of C:\", optimal_C)\n",
        "print(\"Minimum square error:\", min_error)"
      ],
      "metadata": {
        "colab": {
          "base_uri": "https://localhost:8080/"
        },
        "id": "S2Y7TOoGFOns",
        "outputId": "14420d54-d2d0-4abc-81cd-75687b95535c"
      },
      "execution_count": 23,
      "outputs": [
        {
          "output_type": "stream",
          "name": "stdout",
          "text": [
            "Optimal value of M: 0.1999900040083894\n",
            "Optimal value of C: 0.0999950020041947\n",
            "Minimum square error: 6.244990517449996e-10\n"
          ]
        }
      ]
    }
  ]
}